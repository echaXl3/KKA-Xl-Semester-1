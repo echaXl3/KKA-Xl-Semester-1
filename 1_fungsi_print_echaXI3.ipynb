{
  "nbformat": 4,
  "nbformat_minor": 0,
  "metadata": {
    "colab": {
      "provenance": [],
      "authorship_tag": "ABX9TyPayNJYd2sF1w19iB3JyQmr",
      "include_colab_link": true
    },
    "kernelspec": {
      "name": "python3",
      "display_name": "Python 3"
    },
    "language_info": {
      "name": "python"
    }
  },
  "cells": [
    {
      "cell_type": "markdown",
      "metadata": {
        "id": "view-in-github",
        "colab_type": "text"
      },
      "source": [
        "<a href=\"https://colab.research.google.com/github/echaXl3/KKA-Xl-Semester-1/blob/main/1_fungsi_print_echaXI3.ipynb\" target=\"_parent\"><img src=\"https://colab.research.google.com/assets/colab-badge.svg\" alt=\"Open In Colab\"/></a>"
      ]
    },
    {
      "cell_type": "markdown",
      "source": [
        "Nama: Keisa afrachia\n",
        "\n",
        "usia : 16\n",
        "\n",
        "No.absen : 09"
      ],
      "metadata": {
        "id": "1y8jnW67ZQjl"
      }
    },
    {
      "cell_type": "markdown",
      "source": [],
      "metadata": {
        "id": "UoO0AMt1cq5d"
      }
    },
    {
      "cell_type": "markdown",
      "source": [],
      "metadata": {
        "id": "ORymFzATcwm2"
      }
    },
    {
      "cell_type": "markdown",
      "source": [
        "#Menampilkan string ( Teks Bebas)"
      ],
      "metadata": {
        "id": "GURefqITajdD"
      }
    },
    {
      "cell_type": "code",
      "source": [
        "print(\"keisa afrachia\")"
      ],
      "metadata": {
        "colab": {
          "base_uri": "https://localhost:8080/"
        },
        "id": "OMGabeLwasm5",
        "outputId": "15c9eb35-05db-4a9c-b12a-d79261757343"
      },
      "execution_count": null,
      "outputs": [
        {
          "output_type": "stream",
          "name": "stdout",
          "text": [
            "keisa afrachia\n"
          ]
        }
      ]
    },
    {
      "cell_type": "markdown",
      "source": [
        "#Menampilkan nilai variabel"
      ],
      "metadata": {
        "id": "CYg6h3Z8a36A"
      }
    },
    {
      "cell_type": "code",
      "source": [
        "Nama = \"keisa afrachia\"\n",
        "usia =16\n",
        "Tinggi_badan=158\n",
        "\n",
        "print(Nama)\n",
        "print(usia)\n",
        "print(Tinggi_badan)"
      ],
      "metadata": {
        "colab": {
          "base_uri": "https://localhost:8080/"
        },
        "id": "qatqUcJgbCyD",
        "outputId": "9150264a-efd5-4f92-aefa-935b62d1bd30"
      },
      "execution_count": null,
      "outputs": [
        {
          "output_type": "stream",
          "name": "stdout",
          "text": [
            "keisa afrachia\n",
            "16\n",
            "158\n"
          ]
        }
      ]
    },
    {
      "cell_type": "markdown",
      "source": [
        "#parameter fungsi print"
      ],
      "metadata": {
        "id": "TAWlqA3xcykm"
      }
    },
    {
      "cell_type": "code",
      "source": [],
      "metadata": {
        "id": "XQuSxC7dc757"
      },
      "execution_count": null,
      "outputs": []
    }
  ]
}